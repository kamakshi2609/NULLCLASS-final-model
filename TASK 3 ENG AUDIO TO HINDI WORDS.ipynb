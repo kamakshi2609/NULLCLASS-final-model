{
 "cells": [
  {
   "cell_type": "code",
   "execution_count": 20,
   "metadata": {},
   "outputs": [
    {
     "name": "stdout",
     "output_type": "stream",
     "text": [
      "Listening for audio in English...\n",
      "Translation in Hindi: आपका शौक क्या है\n"
     ]
    }
   ],
   "source": [
    "#TASK 3: Create a feature to translate the audio into Hindi . \n",
    "#The system will listen the english audio from user and it will convert into Hindi word.\n",
    "#If the system does not understand the audio it will ask repeat one more time to make it better..\n",
    "#The audio should be in English word only . \n",
    "#This translation feature work on only after 6 PM IST timing and before that it should show message like\n",
    "# please try after 6 PM IST as well as it should not translate any english which is start with M and O apart from that it should translate all other words .\n",
    "import datetime\n",
    "import pytz\n",
    "import speech_recognition as sr\n",
    "from googletrans import Translator\n",
    "\n",
    "def get_current_ist_time():                                                                  #works anyhoww\n",
    "    utc_time = datetime.datetime.utcnow()\n",
    "    ist_time = utc_time.replace(tzinfo=pytz.utc).astimezone(pytz.timezone('Asia/Kolkata'))\n",
    "    return ist_time\n",
    "\n",
    "def is_within_operational_hours():\n",
    "    current_time = get_current_ist_time()\n",
    "    if current_time.hour >= 18 or current_time.hour < 24:\n",
    "        return True\n",
    "    return False\n",
    "\n",
    "def translate_audio_to_hindi():\n",
    "    recognizer = sr.Recognizer()\n",
    "    translator = Translator()\n",
    "    \n",
    "    if not is_within_operational_hours():\n",
    "        print(\"Please try after 6 PM IST.\")\n",
    "        return\n",
    "    \n",
    "    with sr.Microphone() as source:                 #come v close to mic to speak \n",
    "        print(\"Listening for audio in English...\")\n",
    "        try:\n",
    "            audio = recognizer.listen(source)\n",
    "            english_text = recognizer.recognize_google(audio)\n",
    "            \n",
    "            if english_text[0].upper() in ['M', 'O']:\n",
    "                print(\"Translation not available for words starting with 'M' or 'O'.\")\n",
    "                return\n",
    "            \n",
    "            hindi_translation = translator.translate(english_text, src='en', dest='hi')\n",
    "            print(f\"Translation in Hindi: {hindi_translation.text}\")\n",
    "        \n",
    "        except sr.UnknownValueError:\n",
    "            print(\"Sorry, I didn't catch that. Could you please repeat?\")\n",
    "\n",
    "#main logic\n",
    "if __name__ == \"__main__\":\n",
    "    translate_audio_to_hindi()\n"
   ]
  }
 ],
 "metadata": {
  "kernelspec": {
   "display_name": "myenv",
   "language": "python",
   "name": "python3"
  },
  "language_info": {
   "codemirror_mode": {
    "name": "ipython",
    "version": 3
   },
   "file_extension": ".py",
   "mimetype": "text/x-python",
   "name": "python",
   "nbconvert_exporter": "python",
   "pygments_lexer": "ipython3",
   "version": "3.9.18"
  }
 },
 "nbformat": 4,
 "nbformat_minor": 2
}
