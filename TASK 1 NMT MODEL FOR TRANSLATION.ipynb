{
 "cells": [
  {
   "cell_type": "code",
   "execution_count": 13,
   "metadata": {},
   "outputs": [
    {
     "name": "stdout",
     "output_type": "stream",
     "text": [
      "Translated Sequence: [1, 44, 44, 44, 78, 7, 60, 60, 60, 86, 86, 86, 86, 86, 86, 46, 90, 46, 90, 90, 46, 90, 90, 46, 25, 25, 90, 25, 25, 17, 17, 17, 17, 17, 17, 17, 17, 17, 17, 17, 17, 17, 17, 17, 17, 17, 17, 17, 17, 17, 17]\n"
     ]
    },
    {
     "name": "stderr",
     "output_type": "stream",
     "text": [
      "C:\\Users\\Kamakshi\\AppData\\Local\\Temp\\ipykernel_20184\\3455000435.py:67: UserWarning: To copy construct from a tensor, it is recommended to use sourceTensor.clone().detach() or sourceTensor.clone().detach().requires_grad_(True), rather than torch.tensor(sourceTensor).\n",
      "  src_seq = torch.tensor(src_seq, dtype=torch.long).unsqueeze(0).to(device)\n"
     ]
    }
   ],
   "source": [
    "import torch\n",
    "import torch.nn as nn\n",
    "import torch.nn.functional as F\n",
    "\n",
    "class SimpleModel(nn.Module):\n",
    "    def __init__(self, v_size, embed_size):\n",
    "        super(SimpleModel, self).__init__()\n",
    "        self.embedding = nn.Embedding(v_size, embed_size)\n",
    "        self.fc = nn.Linear(embed_size, v_size) \n",
    "    \n",
    "    def forward(self, x):\n",
    "        x = self.embedding(x) \n",
    "        x = torch.mean(x, dim=1)  \n",
    "        logits = self.fc(x)  \n",
    "        return logits\n",
    "\n",
    "class BeamSearchDecoder:\n",
    "    def __init__(self, model, beam_width, max_len, sostoken, eostoken, device):\n",
    "        self.model = model\n",
    "        self.beam_width = beam_width\n",
    "        self.max_len = max_len\n",
    "        self.sostoken = sostoken\n",
    "        self.eostoken = eostoken\n",
    "        self.device = device\n",
    "\n",
    "    def decode(self, src_seq):\n",
    "        if not isinstance(src_seq, torch.Tensor):\n",
    "            src_seq = torch.tensor(src_seq, dtype=torch.long, device=self.device)\n",
    "        \n",
    "        batch_size = src_seq.size(0)\n",
    "        beams = [(torch.tensor([self.sostoken], device=self.device), 0)] * self.beam_width\n",
    "        \n",
    "        for _ in range(self.max_len):\n",
    "            all_candidates = []\n",
    "            for seq, score in beams:\n",
    "                if seq[-1] == self.eostoken:\n",
    "                    all_candidates.append((seq, score))\n",
    "                else:\n",
    "                    input_seq = seq.unsqueeze(0)  #batch_dim\n",
    "                    with torch.no_grad():\n",
    "                        logits = self.model(input_seq)\n",
    "                    \n",
    "                    probs = F.softmax(logits, dim=-1)\n",
    "                    top_probs, top_indices = probs.topk(self.beam_width)\n",
    "\n",
    "                    for i in range(self.beam_width):\n",
    "                        candidate = (torch.cat([seq, top_indices[0, i].unsqueeze(0)]), score - torch.log(top_probs[0, i]))\n",
    "                        all_candidates.append(candidate)\n",
    "\n",
    "            ordered = sorted(all_candidates, key=lambda x: x[1])\n",
    "            beams = ordered[:self.beam_width]\n",
    "\n",
    "        return beams[0][0].tolist()\n",
    "\n",
    "# Defining models\n",
    "vocab_size = 100\n",
    "embed_size = 50\n",
    "\n",
    "# Initialize the model\n",
    "model = SimpleModel(vocab_size, embed_size)\n",
    "\n",
    "# moving model \n",
    "device = torch.device('cuda' if torch.cuda.is_available() else 'cpu')\n",
    "model = model.to(device)\n",
    "\n",
    "#moving seq\n",
    "src_seq = torch.tensor(src_seq, dtype=torch.long).unsqueeze(0).to(device)\n",
    "\n",
    "\n",
    "beam_width = 3\n",
    "max_len = 50\n",
    "sostoken = 1\n",
    "eostoken = 9\n",
    "\n",
    "\n",
    "decoder = BeamSearchDecoder(model, beam_width, max_len, sostoken, eostoken, device)\n",
    "\n",
    "try:\n",
    "    translation = decoder.decode(src_seq)\n",
    "    print(\"Translated Sequence:\", translation)\n",
    "except Exception as e:\n",
    "    print(f\"An error occurred during decoding: {e}\")\n"
   ]
  }
 ],
 "metadata": {
  "kernelspec": {
   "display_name": "myenv",
   "language": "python",
   "name": "python3"
  },
  "language_info": {
   "codemirror_mode": {
    "name": "ipython",
    "version": 3
   },
   "file_extension": ".py",
   "mimetype": "text/x-python",
   "name": "python",
   "nbconvert_exporter": "python",
   "pygments_lexer": "ipython3",
   "version": "3.9.18"
  }
 },
 "nbformat": 4,
 "nbformat_minor": 2
}
